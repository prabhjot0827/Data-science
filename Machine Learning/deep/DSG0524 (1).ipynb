{
 "cells": [
  {
   "cell_type": "code",
   "execution_count": 1,
   "id": "07bbbda0-c9ab-45b1-b179-8add42348541",
   "metadata": {},
   "outputs": [
    {
     "name": "stdout",
     "output_type": "stream",
     "text": [
      "Hello world\n"
     ]
    }
   ],
   "source": [
    "print(\"Hello world\")"
   ]
  },
  {
   "cell_type": "code",
   "execution_count": 1,
   "id": "288e7c90-be48-4a69-8084-29a1cb14568f",
   "metadata": {},
   "outputs": [
    {
     "name": "stdout",
     "output_type": "stream",
     "text": [
      "My name is Prabhjot Singh\n"
     ]
    }
   ],
   "source": [
    "print(\"My name is Prabhjot Singh\")"
   ]
  },
  {
   "cell_type": "code",
   "execution_count": 3,
   "id": "57e0f7ab-10b0-483e-8c79-90fdae696ad0",
   "metadata": {},
   "outputs": [
    {
     "data": {
      "text/plain": [
       "50"
      ]
     },
     "execution_count": 3,
     "metadata": {},
     "output_type": "execute_result"
    }
   ],
   "source": [
    "24+26"
   ]
  },
  {
   "cell_type": "code",
   "execution_count": 7,
   "id": "e93dfab8-3dba-4ab1-82e6-e1718893d5ff",
   "metadata": {},
   "outputs": [
    {
     "data": {
      "text/plain": [
       "5.0"
      ]
     },
     "execution_count": 7,
     "metadata": {},
     "output_type": "execute_result"
    }
   ],
   "source": [
    "25/5"
   ]
  },
  {
   "cell_type": "code",
   "execution_count": 9,
   "id": "0441d73a-3709-46c9-a9b7-7aaf53c83880",
   "metadata": {},
   "outputs": [
    {
     "data": {
      "text/plain": [
       "125"
      ]
     },
     "execution_count": 9,
     "metadata": {},
     "output_type": "execute_result"
    }
   ],
   "source": [
    "25*5"
   ]
  },
  {
   "cell_type": "code",
   "execution_count": 11,
   "id": "e421181f-bd4d-463e-b4af-7aa63732cd35",
   "metadata": {},
   "outputs": [
    {
     "name": "stdout",
     "output_type": "stream",
     "text": [
      "49\n"
     ]
    }
   ],
   "source": [
    "x=24+25\n",
    "print(x)"
   ]
  },
  {
   "cell_type": "code",
   "execution_count": 13,
   "id": "8e98c976-3b7a-42e2-8739-16d0a1c71be7",
   "metadata": {},
   "outputs": [
    {
     "data": {
      "text/plain": [
       "4.0"
      ]
     },
     "execution_count": 13,
     "metadata": {},
     "output_type": "execute_result"
    }
   ],
   "source": [
    "2*10/5"
   ]
  },
  {
   "cell_type": "code",
   "execution_count": null,
   "id": "e71a1ee5-b7fa-4df1-b030-20a2fd7b1b80",
   "metadata": {},
   "outputs": [],
   "source": []
  },
  {
   "cell_type": "markdown",
   "id": "fb669243-08a0-4eb6-bf64-52efa9e4f0cc",
   "metadata": {},
   "source": [
    "to run and execute the cell shift + enter or alt + enter\n",
    "\n",
    "to add the cell above the currnt cell  Esc+A\n",
    "\n",
    "to add the cell below the current cell Esc+B\n",
    "\n",
    "to delete the cell Esc+D+D"
   ]
  },
  {
   "cell_type": "code",
   "execution_count": 19,
   "id": "f00f8ef5-d779-4a23-9db6-ea554ea8fe28",
   "metadata": {},
   "outputs": [
    {
     "name": "stdout",
     "output_type": "stream",
     "text": [
      "Hi\n"
     ]
    }
   ],
   "source": [
    "#for the simple one line comment\n",
    "print(\"Hi\")"
   ]
  },
  {
   "cell_type": "code",
   "execution_count": null,
   "id": "2bbb32e5-df5a-476e-9009-9d39cc63893e",
   "metadata": {},
   "outputs": [],
   "source": []
  }
 ],
 "metadata": {
  "kernelspec": {
   "display_name": "Python 3 (ipykernel)",
   "language": "python",
   "name": "python3"
  },
  "language_info": {
   "codemirror_mode": {
    "name": "ipython",
    "version": 3
   },
   "file_extension": ".py",
   "mimetype": "text/x-python",
   "name": "python",
   "nbconvert_exporter": "python",
   "pygments_lexer": "ipython3",
   "version": "3.11.7"
  }
 },
 "nbformat": 4,
 "nbformat_minor": 5
}
